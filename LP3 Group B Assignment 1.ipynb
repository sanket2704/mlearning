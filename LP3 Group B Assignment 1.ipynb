{
 "cells": [
  {
   "cell_type": "markdown",
   "id": "a00c5ce7",
   "metadata": {},
   "source": [
    "# LP3 Group B Assignment 1\n",
    "\n",
    "## Predict the price of the Uber ride from a given pickup point to the agreed drop-off location.\n",
    "\n",
    "### Perform following tasks:\n",
    "1. Pre-process the dataset.\n",
    "2. Identify outliers.\n",
    "3. Check the correlation.\n",
    "4. Implement linear regression and random forest regression models.\n",
    "5. Evaluate the models and compare their respective scores like R2, RMSE, etc.\n",
    "\n",
    "Dataset link: https://www.kaggle.com/datasets/yasserh/uber-fares-dataset"
   ]
  },
  {
   "cell_type": "code",
   "execution_count": 1,
   "id": "aba4b223",
   "metadata": {},
   "outputs": [],
   "source": [
    "#Importing required libraries\n",
    "import matplotlib.pyplot as plt\n",
    "import numpy as np\n",
    "import pandas as pd\n",
    "from sklearn.preprocessing import StandardScaler\n",
    "from sklearn.model_selection import train_test_split\n",
    "from sklearn.linear_model import LinearRegression\n",
    "from sklearn.ensemble import RandomForestRegressor\n",
    "from sklearn import metrics"
   ]
  },
  {
   "cell_type": "code",
   "execution_count": null,
   "id": "6679414b",
   "metadata": {},
   "outputs": [],
   "source": [
    "df = pd.read_csv('uber.csv') #Reading CSV file\n",
    "df.head()"
   ]
  },
  {
   "cell_type": "code",
   "execution_count": null,
   "id": "0bf608da",
   "metadata": {},
   "outputs": [],
   "source": [
    "df.dtypes #Checking Datatypes."
   ]
  },
  {
   "cell_type": "code",
   "execution_count": null,
   "id": "847462b6",
   "metadata": {},
   "outputs": [],
   "source": [
    "df.isnull().sum() #Checking for Null Values."
   ]
  },
  {
   "cell_type": "code",
   "execution_count": null,
   "id": "7d73d6e3",
   "metadata": {},
   "outputs": [],
   "source": [
    "df.drop(['Unnamed: 0','key'],axis=1,inplace=True) #Dropping first coloumnn as it is irrelevant.\n",
    "df.dropna(axis=0,inplace=True) #Dropping the rows with null values.\n",
    "df.head()"
   ]
  },
  {
   "cell_type": "code",
   "execution_count": null,
   "id": "524b0360",
   "metadata": {},
   "outputs": [],
   "source": [
    "def haversine (lon_1, lon_2, lat_1, lat_2): #Function to find the distance using the coordinates\n",
    "    lon_1, lon_2, lat_1, lat_2 = map(np.radians, [lon_1, lon_2, lat_1, lat_2]) #Converting Degrees to Radians\n",
    "    diff_lon = lon_2 - lon_1\n",
    "    diff_lat = lat_2 - lat_1\n",
    "    distance = 2 * 6371 * np.arcsin(np.sqrt(np.sin(diff_lat/2.0)**2+np.cos(lat_1)*np.cos(lat_2)*np.sin(diff_lon/2.0)**2)) #Calculationg the Distance using Haversine Formula\n",
    "    return distance\n",
    "\n",
    "df['Distance']= haversine(df['pickup_longitude'],df['dropoff_longitude'],df['pickup_latitude'],df['dropoff_latitude'])\n",
    "df['Distance'] = df['Distance'].astype(float).round(2) #Rounding-off to 2 decimals\n",
    "df.head()"
   ]
  },
  {
   "cell_type": "code",
   "execution_count": null,
   "id": "36786888",
   "metadata": {},
   "outputs": [],
   "source": [
    "#Plotting a scatter plot to check for outliers.\n",
    "plt.scatter(df['Distance'], df['fare_amount'])\n",
    "plt.xlabel(\"Distance\")\n",
    "plt.ylabel(\"fare_amount\")"
   ]
  },
  {
   "cell_type": "code",
   "execution_count": null,
   "id": "f67e997e",
   "metadata": {},
   "outputs": [],
   "source": [
    "#Dealing with Outliers via removing rows with too large Distance and 0 or lesser distance.\n",
    "df.drop(df[df['Distance']>60].index, inplace=True)\n",
    "df.drop(df[df['Distance']==0].index, inplace=True)\n",
    "df.drop(df[df['Distance']<0].index, inplace=True)\n",
    "#Dealing with Outliers via removing rows with 0 or lesser fare amounts.\n",
    "df.drop(df[df['fare_amount']==0].index, inplace=True)\n",
    "df.drop(df[df['fare_amount']<0].index, inplace=True)\n",
    "#Dealing with Outliers via removing rows with non-plausible fare amounts and distance travelled.\n",
    "df.drop(df[df['Distance']>100].index, inplace=True)\n",
    "df.drop(df[df['fare_amount']>100].index, inplace=True)\n",
    "df.drop(df[(df['fare_amount']>100) & (df['Distance']<1)].index, inplace = True )\n",
    "df.drop(df[(df['fare_amount']<100) & (df['Distance']>100)].index, inplace = True )\n",
    "#Plotting a Scatter Plot to check for any more outliers and also to show correlation between Fare Amount and Distance.\n",
    "plt.scatter(df['Distance'], df['fare_amount'])\n",
    "plt.xlabel(\"Distance\")\n",
    "plt.ylabel(\"fare_amount\")"
   ]
  },
  {
   "cell_type": "code",
   "execution_count": 9,
   "id": "1cf60faf",
   "metadata": {},
   "outputs": [],
   "source": [
    "#Preprocessing the Data Using Standard Scaler in range of -1 to 1\n",
    "x = df['Distance'].values.reshape(-1, 1)        #Independent Variable\n",
    "y = df['fare_amount'].values.reshape(-1, 1)     #Dependent Variable\n",
    "std = StandardScaler()\n",
    "Y = std.fit_transform(y)\n",
    "X = std.fit_transform(x)\n",
    "#Splitting the data into training and testing set\n",
    "X_train, X_test, Y_train, Y_test = train_test_split(X, Y, test_size=0.2, random_state=1)"
   ]
  },
  {
   "cell_type": "code",
   "execution_count": 10,
   "id": "882b0547",
   "metadata": {},
   "outputs": [],
   "source": [
    "def apply_model(model): #Model to print the metrics of the various prediction models\n",
    "    model.fit(X_train,Y_train)\n",
    "    print(\"Training score = \",model.score(X_train,Y_train))\n",
    "    print(\"Testing score = \",model.score(X_test,Y_test))\n",
    "    print(\"Accuracy = \",model.score(X_test,Y_test))\n",
    "    Y_pred = model.predict(X_test)\n",
    "    print(\"Predicted values:\\n\",Y_pred)\n",
    "    print(\"Mean Absolute Error =\", metrics.mean_absolute_error(Y_test, Y_pred))\n",
    "    print(\"Mean Squared Error =\", metrics.mean_squared_error(Y_test, Y_pred))\n",
    "    print(\"Root Mean Squared Error =\", np.sqrt(metrics.mean_squared_error(Y_test, Y_pred)))"
   ]
  },
  {
   "cell_type": "code",
   "execution_count": null,
   "id": "1c99e0db",
   "metadata": {},
   "outputs": [],
   "source": [
    "lr = LinearRegression()\n",
    "apply_model(lr)"
   ]
  },
  {
   "cell_type": "code",
   "execution_count": null,
   "id": "1cf9422a",
   "metadata": {},
   "outputs": [],
   "source": [
    "#Random Forest Model\n",
    "rf = RandomForestRegressor(n_estimators=100, random_state=10)\n",
    "apply_model(rf)"
   ]
  },
  {
   "cell_type": "code",
   "execution_count": null,
   "id": "ef4d3f3f",
   "metadata": {},
   "outputs": [],
   "source": []
  }
 ],
 "metadata": {
  "kernelspec": {
   "display_name": "Python 3 (ipykernel)",
   "language": "python",
   "name": "python3"
  },
  "language_info": {
   "codemirror_mode": {
    "name": "ipython",
    "version": 3
   },
   "file_extension": ".py",
   "mimetype": "text/x-python",
   "name": "python",
   "nbconvert_exporter": "python",
   "pygments_lexer": "ipython3",
   "version": "3.9.12"
  }
 },
 "nbformat": 4,
 "nbformat_minor": 5
}
